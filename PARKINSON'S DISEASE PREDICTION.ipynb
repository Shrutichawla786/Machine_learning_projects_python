{
 "cells": [
  {
   "cell_type": "markdown",
   "id": "9ec48dba",
   "metadata": {},
   "source": [
    "Importing libraries"
   ]
  },
  {
   "cell_type": "code",
   "execution_count": 1,
   "id": "7a5df16b",
   "metadata": {},
   "outputs": [],
   "source": [
    "import pandas as pd\n",
    "import numpy as np\n",
    "import matplotlib.pyplot as plt\n",
    "import seaborn as sns\n",
    "from sklearn.model_selection import train_test_split\n",
    "from sklearn import svm\n",
    "from sklearn.preprocessing import StandardScaler"
   ]
  },
  {
   "cell_type": "markdown",
   "id": "f0cf4e27",
   "metadata": {},
   "source": [
    "Data Collection"
   ]
  },
  {
   "cell_type": "code",
   "execution_count": 2,
   "id": "65ad0f5f",
   "metadata": {},
   "outputs": [],
   "source": [
    "df= pd.read_csv(\"C:/Users/shrut/Downloads/Parkinsson disease.csv\")"
   ]
  },
  {
   "cell_type": "code",
   "execution_count": 3,
   "id": "9b96185c",
   "metadata": {},
   "outputs": [
    {
     "data": {
      "text/html": [
       "<div>\n",
       "<style scoped>\n",
       "    .dataframe tbody tr th:only-of-type {\n",
       "        vertical-align: middle;\n",
       "    }\n",
       "\n",
       "    .dataframe tbody tr th {\n",
       "        vertical-align: top;\n",
       "    }\n",
       "\n",
       "    .dataframe thead th {\n",
       "        text-align: right;\n",
       "    }\n",
       "</style>\n",
       "<table border=\"1\" class=\"dataframe\">\n",
       "  <thead>\n",
       "    <tr style=\"text-align: right;\">\n",
       "      <th></th>\n",
       "      <th>name</th>\n",
       "      <th>MDVP:Fo(Hz)</th>\n",
       "      <th>MDVP:Fhi(Hz)</th>\n",
       "      <th>MDVP:Flo(Hz)</th>\n",
       "      <th>MDVP:Jitter(%)</th>\n",
       "      <th>MDVP:Jitter(Abs)</th>\n",
       "      <th>MDVP:RAP</th>\n",
       "      <th>MDVP:PPQ</th>\n",
       "      <th>Jitter:DDP</th>\n",
       "      <th>MDVP:Shimmer</th>\n",
       "      <th>...</th>\n",
       "      <th>Shimmer:DDA</th>\n",
       "      <th>NHR</th>\n",
       "      <th>HNR</th>\n",
       "      <th>status</th>\n",
       "      <th>RPDE</th>\n",
       "      <th>DFA</th>\n",
       "      <th>spread1</th>\n",
       "      <th>spread2</th>\n",
       "      <th>D2</th>\n",
       "      <th>PPE</th>\n",
       "    </tr>\n",
       "  </thead>\n",
       "  <tbody>\n",
       "    <tr>\n",
       "      <th>0</th>\n",
       "      <td>phon_R01_S01_1</td>\n",
       "      <td>119.992</td>\n",
       "      <td>157.302</td>\n",
       "      <td>74.997</td>\n",
       "      <td>0.00784</td>\n",
       "      <td>0.00007</td>\n",
       "      <td>0.00370</td>\n",
       "      <td>0.00554</td>\n",
       "      <td>0.01109</td>\n",
       "      <td>0.04374</td>\n",
       "      <td>...</td>\n",
       "      <td>0.06545</td>\n",
       "      <td>0.02211</td>\n",
       "      <td>21.033</td>\n",
       "      <td>1</td>\n",
       "      <td>0.414783</td>\n",
       "      <td>0.815285</td>\n",
       "      <td>-4.813031</td>\n",
       "      <td>0.266482</td>\n",
       "      <td>2.301442</td>\n",
       "      <td>0.284654</td>\n",
       "    </tr>\n",
       "    <tr>\n",
       "      <th>1</th>\n",
       "      <td>phon_R01_S01_2</td>\n",
       "      <td>122.400</td>\n",
       "      <td>148.650</td>\n",
       "      <td>113.819</td>\n",
       "      <td>0.00968</td>\n",
       "      <td>0.00008</td>\n",
       "      <td>0.00465</td>\n",
       "      <td>0.00696</td>\n",
       "      <td>0.01394</td>\n",
       "      <td>0.06134</td>\n",
       "      <td>...</td>\n",
       "      <td>0.09403</td>\n",
       "      <td>0.01929</td>\n",
       "      <td>19.085</td>\n",
       "      <td>1</td>\n",
       "      <td>0.458359</td>\n",
       "      <td>0.819521</td>\n",
       "      <td>-4.075192</td>\n",
       "      <td>0.335590</td>\n",
       "      <td>2.486855</td>\n",
       "      <td>0.368674</td>\n",
       "    </tr>\n",
       "    <tr>\n",
       "      <th>2</th>\n",
       "      <td>phon_R01_S01_3</td>\n",
       "      <td>116.682</td>\n",
       "      <td>131.111</td>\n",
       "      <td>111.555</td>\n",
       "      <td>0.01050</td>\n",
       "      <td>0.00009</td>\n",
       "      <td>0.00544</td>\n",
       "      <td>0.00781</td>\n",
       "      <td>0.01633</td>\n",
       "      <td>0.05233</td>\n",
       "      <td>...</td>\n",
       "      <td>0.08270</td>\n",
       "      <td>0.01309</td>\n",
       "      <td>20.651</td>\n",
       "      <td>1</td>\n",
       "      <td>0.429895</td>\n",
       "      <td>0.825288</td>\n",
       "      <td>-4.443179</td>\n",
       "      <td>0.311173</td>\n",
       "      <td>2.342259</td>\n",
       "      <td>0.332634</td>\n",
       "    </tr>\n",
       "    <tr>\n",
       "      <th>3</th>\n",
       "      <td>phon_R01_S01_4</td>\n",
       "      <td>116.676</td>\n",
       "      <td>137.871</td>\n",
       "      <td>111.366</td>\n",
       "      <td>0.00997</td>\n",
       "      <td>0.00009</td>\n",
       "      <td>0.00502</td>\n",
       "      <td>0.00698</td>\n",
       "      <td>0.01505</td>\n",
       "      <td>0.05492</td>\n",
       "      <td>...</td>\n",
       "      <td>0.08771</td>\n",
       "      <td>0.01353</td>\n",
       "      <td>20.644</td>\n",
       "      <td>1</td>\n",
       "      <td>0.434969</td>\n",
       "      <td>0.819235</td>\n",
       "      <td>-4.117501</td>\n",
       "      <td>0.334147</td>\n",
       "      <td>2.405554</td>\n",
       "      <td>0.368975</td>\n",
       "    </tr>\n",
       "    <tr>\n",
       "      <th>4</th>\n",
       "      <td>phon_R01_S01_5</td>\n",
       "      <td>116.014</td>\n",
       "      <td>141.781</td>\n",
       "      <td>110.655</td>\n",
       "      <td>0.01284</td>\n",
       "      <td>0.00011</td>\n",
       "      <td>0.00655</td>\n",
       "      <td>0.00908</td>\n",
       "      <td>0.01966</td>\n",
       "      <td>0.06425</td>\n",
       "      <td>...</td>\n",
       "      <td>0.10470</td>\n",
       "      <td>0.01767</td>\n",
       "      <td>19.649</td>\n",
       "      <td>1</td>\n",
       "      <td>0.417356</td>\n",
       "      <td>0.823484</td>\n",
       "      <td>-3.747787</td>\n",
       "      <td>0.234513</td>\n",
       "      <td>2.332180</td>\n",
       "      <td>0.410335</td>\n",
       "    </tr>\n",
       "  </tbody>\n",
       "</table>\n",
       "<p>5 rows × 24 columns</p>\n",
       "</div>"
      ],
      "text/plain": [
       "             name  MDVP:Fo(Hz)  MDVP:Fhi(Hz)  MDVP:Flo(Hz)  MDVP:Jitter(%)  \\\n",
       "0  phon_R01_S01_1      119.992       157.302        74.997         0.00784   \n",
       "1  phon_R01_S01_2      122.400       148.650       113.819         0.00968   \n",
       "2  phon_R01_S01_3      116.682       131.111       111.555         0.01050   \n",
       "3  phon_R01_S01_4      116.676       137.871       111.366         0.00997   \n",
       "4  phon_R01_S01_5      116.014       141.781       110.655         0.01284   \n",
       "\n",
       "   MDVP:Jitter(Abs)  MDVP:RAP  MDVP:PPQ  Jitter:DDP  MDVP:Shimmer  ...  \\\n",
       "0           0.00007   0.00370   0.00554     0.01109       0.04374  ...   \n",
       "1           0.00008   0.00465   0.00696     0.01394       0.06134  ...   \n",
       "2           0.00009   0.00544   0.00781     0.01633       0.05233  ...   \n",
       "3           0.00009   0.00502   0.00698     0.01505       0.05492  ...   \n",
       "4           0.00011   0.00655   0.00908     0.01966       0.06425  ...   \n",
       "\n",
       "   Shimmer:DDA      NHR     HNR  status      RPDE       DFA   spread1  \\\n",
       "0      0.06545  0.02211  21.033       1  0.414783  0.815285 -4.813031   \n",
       "1      0.09403  0.01929  19.085       1  0.458359  0.819521 -4.075192   \n",
       "2      0.08270  0.01309  20.651       1  0.429895  0.825288 -4.443179   \n",
       "3      0.08771  0.01353  20.644       1  0.434969  0.819235 -4.117501   \n",
       "4      0.10470  0.01767  19.649       1  0.417356  0.823484 -3.747787   \n",
       "\n",
       "    spread2        D2       PPE  \n",
       "0  0.266482  2.301442  0.284654  \n",
       "1  0.335590  2.486855  0.368674  \n",
       "2  0.311173  2.342259  0.332634  \n",
       "3  0.334147  2.405554  0.368975  \n",
       "4  0.234513  2.332180  0.410335  \n",
       "\n",
       "[5 rows x 24 columns]"
      ]
     },
     "execution_count": 3,
     "metadata": {},
     "output_type": "execute_result"
    }
   ],
   "source": [
    "df.head()"
   ]
  },
  {
   "cell_type": "code",
   "execution_count": 4,
   "id": "384a518d",
   "metadata": {},
   "outputs": [
    {
     "data": {
      "text/plain": [
       "(195, 24)"
      ]
     },
     "execution_count": 4,
     "metadata": {},
     "output_type": "execute_result"
    }
   ],
   "source": [
    "df.shape"
   ]
  },
  {
   "cell_type": "code",
   "execution_count": 5,
   "id": "af9a9c53",
   "metadata": {},
   "outputs": [
    {
     "name": "stdout",
     "output_type": "stream",
     "text": [
      "<class 'pandas.core.frame.DataFrame'>\n",
      "RangeIndex: 195 entries, 0 to 194\n",
      "Data columns (total 24 columns):\n",
      " #   Column            Non-Null Count  Dtype  \n",
      "---  ------            --------------  -----  \n",
      " 0   name              195 non-null    object \n",
      " 1   MDVP:Fo(Hz)       195 non-null    float64\n",
      " 2   MDVP:Fhi(Hz)      195 non-null    float64\n",
      " 3   MDVP:Flo(Hz)      195 non-null    float64\n",
      " 4   MDVP:Jitter(%)    195 non-null    float64\n",
      " 5   MDVP:Jitter(Abs)  195 non-null    float64\n",
      " 6   MDVP:RAP          195 non-null    float64\n",
      " 7   MDVP:PPQ          195 non-null    float64\n",
      " 8   Jitter:DDP        195 non-null    float64\n",
      " 9   MDVP:Shimmer      195 non-null    float64\n",
      " 10  MDVP:Shimmer(dB)  195 non-null    float64\n",
      " 11  Shimmer:APQ3      195 non-null    float64\n",
      " 12  Shimmer:APQ5      195 non-null    float64\n",
      " 13  MDVP:APQ          195 non-null    float64\n",
      " 14  Shimmer:DDA       195 non-null    float64\n",
      " 15  NHR               195 non-null    float64\n",
      " 16  HNR               195 non-null    float64\n",
      " 17  status            195 non-null    int64  \n",
      " 18  RPDE              195 non-null    float64\n",
      " 19  DFA               195 non-null    float64\n",
      " 20  spread1           195 non-null    float64\n",
      " 21  spread2           195 non-null    float64\n",
      " 22  D2                195 non-null    float64\n",
      " 23  PPE               195 non-null    float64\n",
      "dtypes: float64(22), int64(1), object(1)\n",
      "memory usage: 36.7+ KB\n"
     ]
    }
   ],
   "source": [
    "df.info()"
   ]
  },
  {
   "cell_type": "code",
   "execution_count": 6,
   "id": "1e328c73",
   "metadata": {},
   "outputs": [
    {
     "data": {
      "text/plain": [
       "name                0\n",
       "MDVP:Fo(Hz)         0\n",
       "MDVP:Fhi(Hz)        0\n",
       "MDVP:Flo(Hz)        0\n",
       "MDVP:Jitter(%)      0\n",
       "MDVP:Jitter(Abs)    0\n",
       "MDVP:RAP            0\n",
       "MDVP:PPQ            0\n",
       "Jitter:DDP          0\n",
       "MDVP:Shimmer        0\n",
       "MDVP:Shimmer(dB)    0\n",
       "Shimmer:APQ3        0\n",
       "Shimmer:APQ5        0\n",
       "MDVP:APQ            0\n",
       "Shimmer:DDA         0\n",
       "NHR                 0\n",
       "HNR                 0\n",
       "status              0\n",
       "RPDE                0\n",
       "DFA                 0\n",
       "spread1             0\n",
       "spread2             0\n",
       "D2                  0\n",
       "PPE                 0\n",
       "dtype: int64"
      ]
     },
     "execution_count": 6,
     "metadata": {},
     "output_type": "execute_result"
    }
   ],
   "source": [
    "df.isnull().sum()"
   ]
  },
  {
   "cell_type": "code",
   "execution_count": 7,
   "id": "37ae068c",
   "metadata": {},
   "outputs": [
    {
     "data": {
      "text/html": [
       "<div>\n",
       "<style scoped>\n",
       "    .dataframe tbody tr th:only-of-type {\n",
       "        vertical-align: middle;\n",
       "    }\n",
       "\n",
       "    .dataframe tbody tr th {\n",
       "        vertical-align: top;\n",
       "    }\n",
       "\n",
       "    .dataframe thead th {\n",
       "        text-align: right;\n",
       "    }\n",
       "</style>\n",
       "<table border=\"1\" class=\"dataframe\">\n",
       "  <thead>\n",
       "    <tr style=\"text-align: right;\">\n",
       "      <th></th>\n",
       "      <th>MDVP:Fo(Hz)</th>\n",
       "      <th>MDVP:Fhi(Hz)</th>\n",
       "      <th>MDVP:Flo(Hz)</th>\n",
       "      <th>MDVP:Jitter(%)</th>\n",
       "      <th>MDVP:Jitter(Abs)</th>\n",
       "      <th>MDVP:RAP</th>\n",
       "      <th>MDVP:PPQ</th>\n",
       "      <th>Jitter:DDP</th>\n",
       "      <th>MDVP:Shimmer</th>\n",
       "      <th>MDVP:Shimmer(dB)</th>\n",
       "      <th>...</th>\n",
       "      <th>Shimmer:DDA</th>\n",
       "      <th>NHR</th>\n",
       "      <th>HNR</th>\n",
       "      <th>status</th>\n",
       "      <th>RPDE</th>\n",
       "      <th>DFA</th>\n",
       "      <th>spread1</th>\n",
       "      <th>spread2</th>\n",
       "      <th>D2</th>\n",
       "      <th>PPE</th>\n",
       "    </tr>\n",
       "  </thead>\n",
       "  <tbody>\n",
       "    <tr>\n",
       "      <th>count</th>\n",
       "      <td>195.000000</td>\n",
       "      <td>195.000000</td>\n",
       "      <td>195.000000</td>\n",
       "      <td>195.000000</td>\n",
       "      <td>195.000000</td>\n",
       "      <td>195.000000</td>\n",
       "      <td>195.000000</td>\n",
       "      <td>195.000000</td>\n",
       "      <td>195.000000</td>\n",
       "      <td>195.000000</td>\n",
       "      <td>...</td>\n",
       "      <td>195.000000</td>\n",
       "      <td>195.000000</td>\n",
       "      <td>195.000000</td>\n",
       "      <td>195.000000</td>\n",
       "      <td>195.000000</td>\n",
       "      <td>195.000000</td>\n",
       "      <td>195.000000</td>\n",
       "      <td>195.000000</td>\n",
       "      <td>195.000000</td>\n",
       "      <td>195.000000</td>\n",
       "    </tr>\n",
       "    <tr>\n",
       "      <th>mean</th>\n",
       "      <td>154.228641</td>\n",
       "      <td>197.104918</td>\n",
       "      <td>116.324631</td>\n",
       "      <td>0.006220</td>\n",
       "      <td>0.000044</td>\n",
       "      <td>0.003306</td>\n",
       "      <td>0.003446</td>\n",
       "      <td>0.009920</td>\n",
       "      <td>0.029709</td>\n",
       "      <td>0.282251</td>\n",
       "      <td>...</td>\n",
       "      <td>0.046993</td>\n",
       "      <td>0.024847</td>\n",
       "      <td>21.885974</td>\n",
       "      <td>0.753846</td>\n",
       "      <td>0.498536</td>\n",
       "      <td>0.718099</td>\n",
       "      <td>-5.684397</td>\n",
       "      <td>0.226510</td>\n",
       "      <td>2.381826</td>\n",
       "      <td>0.206552</td>\n",
       "    </tr>\n",
       "    <tr>\n",
       "      <th>std</th>\n",
       "      <td>41.390065</td>\n",
       "      <td>91.491548</td>\n",
       "      <td>43.521413</td>\n",
       "      <td>0.004848</td>\n",
       "      <td>0.000035</td>\n",
       "      <td>0.002968</td>\n",
       "      <td>0.002759</td>\n",
       "      <td>0.008903</td>\n",
       "      <td>0.018857</td>\n",
       "      <td>0.194877</td>\n",
       "      <td>...</td>\n",
       "      <td>0.030459</td>\n",
       "      <td>0.040418</td>\n",
       "      <td>4.425764</td>\n",
       "      <td>0.431878</td>\n",
       "      <td>0.103942</td>\n",
       "      <td>0.055336</td>\n",
       "      <td>1.090208</td>\n",
       "      <td>0.083406</td>\n",
       "      <td>0.382799</td>\n",
       "      <td>0.090119</td>\n",
       "    </tr>\n",
       "    <tr>\n",
       "      <th>min</th>\n",
       "      <td>88.333000</td>\n",
       "      <td>102.145000</td>\n",
       "      <td>65.476000</td>\n",
       "      <td>0.001680</td>\n",
       "      <td>0.000007</td>\n",
       "      <td>0.000680</td>\n",
       "      <td>0.000920</td>\n",
       "      <td>0.002040</td>\n",
       "      <td>0.009540</td>\n",
       "      <td>0.085000</td>\n",
       "      <td>...</td>\n",
       "      <td>0.013640</td>\n",
       "      <td>0.000650</td>\n",
       "      <td>8.441000</td>\n",
       "      <td>0.000000</td>\n",
       "      <td>0.256570</td>\n",
       "      <td>0.574282</td>\n",
       "      <td>-7.964984</td>\n",
       "      <td>0.006274</td>\n",
       "      <td>1.423287</td>\n",
       "      <td>0.044539</td>\n",
       "    </tr>\n",
       "    <tr>\n",
       "      <th>25%</th>\n",
       "      <td>117.572000</td>\n",
       "      <td>134.862500</td>\n",
       "      <td>84.291000</td>\n",
       "      <td>0.003460</td>\n",
       "      <td>0.000020</td>\n",
       "      <td>0.001660</td>\n",
       "      <td>0.001860</td>\n",
       "      <td>0.004985</td>\n",
       "      <td>0.016505</td>\n",
       "      <td>0.148500</td>\n",
       "      <td>...</td>\n",
       "      <td>0.024735</td>\n",
       "      <td>0.005925</td>\n",
       "      <td>19.198000</td>\n",
       "      <td>1.000000</td>\n",
       "      <td>0.421306</td>\n",
       "      <td>0.674758</td>\n",
       "      <td>-6.450096</td>\n",
       "      <td>0.174351</td>\n",
       "      <td>2.099125</td>\n",
       "      <td>0.137451</td>\n",
       "    </tr>\n",
       "    <tr>\n",
       "      <th>50%</th>\n",
       "      <td>148.790000</td>\n",
       "      <td>175.829000</td>\n",
       "      <td>104.315000</td>\n",
       "      <td>0.004940</td>\n",
       "      <td>0.000030</td>\n",
       "      <td>0.002500</td>\n",
       "      <td>0.002690</td>\n",
       "      <td>0.007490</td>\n",
       "      <td>0.022970</td>\n",
       "      <td>0.221000</td>\n",
       "      <td>...</td>\n",
       "      <td>0.038360</td>\n",
       "      <td>0.011660</td>\n",
       "      <td>22.085000</td>\n",
       "      <td>1.000000</td>\n",
       "      <td>0.495954</td>\n",
       "      <td>0.722254</td>\n",
       "      <td>-5.720868</td>\n",
       "      <td>0.218885</td>\n",
       "      <td>2.361532</td>\n",
       "      <td>0.194052</td>\n",
       "    </tr>\n",
       "    <tr>\n",
       "      <th>75%</th>\n",
       "      <td>182.769000</td>\n",
       "      <td>224.205500</td>\n",
       "      <td>140.018500</td>\n",
       "      <td>0.007365</td>\n",
       "      <td>0.000060</td>\n",
       "      <td>0.003835</td>\n",
       "      <td>0.003955</td>\n",
       "      <td>0.011505</td>\n",
       "      <td>0.037885</td>\n",
       "      <td>0.350000</td>\n",
       "      <td>...</td>\n",
       "      <td>0.060795</td>\n",
       "      <td>0.025640</td>\n",
       "      <td>25.075500</td>\n",
       "      <td>1.000000</td>\n",
       "      <td>0.587562</td>\n",
       "      <td>0.761881</td>\n",
       "      <td>-5.046192</td>\n",
       "      <td>0.279234</td>\n",
       "      <td>2.636456</td>\n",
       "      <td>0.252980</td>\n",
       "    </tr>\n",
       "    <tr>\n",
       "      <th>max</th>\n",
       "      <td>260.105000</td>\n",
       "      <td>592.030000</td>\n",
       "      <td>239.170000</td>\n",
       "      <td>0.033160</td>\n",
       "      <td>0.000260</td>\n",
       "      <td>0.021440</td>\n",
       "      <td>0.019580</td>\n",
       "      <td>0.064330</td>\n",
       "      <td>0.119080</td>\n",
       "      <td>1.302000</td>\n",
       "      <td>...</td>\n",
       "      <td>0.169420</td>\n",
       "      <td>0.314820</td>\n",
       "      <td>33.047000</td>\n",
       "      <td>1.000000</td>\n",
       "      <td>0.685151</td>\n",
       "      <td>0.825288</td>\n",
       "      <td>-2.434031</td>\n",
       "      <td>0.450493</td>\n",
       "      <td>3.671155</td>\n",
       "      <td>0.527367</td>\n",
       "    </tr>\n",
       "  </tbody>\n",
       "</table>\n",
       "<p>8 rows × 23 columns</p>\n",
       "</div>"
      ],
      "text/plain": [
       "       MDVP:Fo(Hz)  MDVP:Fhi(Hz)  MDVP:Flo(Hz)  MDVP:Jitter(%)  \\\n",
       "count   195.000000    195.000000    195.000000      195.000000   \n",
       "mean    154.228641    197.104918    116.324631        0.006220   \n",
       "std      41.390065     91.491548     43.521413        0.004848   \n",
       "min      88.333000    102.145000     65.476000        0.001680   \n",
       "25%     117.572000    134.862500     84.291000        0.003460   \n",
       "50%     148.790000    175.829000    104.315000        0.004940   \n",
       "75%     182.769000    224.205500    140.018500        0.007365   \n",
       "max     260.105000    592.030000    239.170000        0.033160   \n",
       "\n",
       "       MDVP:Jitter(Abs)    MDVP:RAP    MDVP:PPQ  Jitter:DDP  MDVP:Shimmer  \\\n",
       "count        195.000000  195.000000  195.000000  195.000000    195.000000   \n",
       "mean           0.000044    0.003306    0.003446    0.009920      0.029709   \n",
       "std            0.000035    0.002968    0.002759    0.008903      0.018857   \n",
       "min            0.000007    0.000680    0.000920    0.002040      0.009540   \n",
       "25%            0.000020    0.001660    0.001860    0.004985      0.016505   \n",
       "50%            0.000030    0.002500    0.002690    0.007490      0.022970   \n",
       "75%            0.000060    0.003835    0.003955    0.011505      0.037885   \n",
       "max            0.000260    0.021440    0.019580    0.064330      0.119080   \n",
       "\n",
       "       MDVP:Shimmer(dB)  ...  Shimmer:DDA         NHR         HNR      status  \\\n",
       "count        195.000000  ...   195.000000  195.000000  195.000000  195.000000   \n",
       "mean           0.282251  ...     0.046993    0.024847   21.885974    0.753846   \n",
       "std            0.194877  ...     0.030459    0.040418    4.425764    0.431878   \n",
       "min            0.085000  ...     0.013640    0.000650    8.441000    0.000000   \n",
       "25%            0.148500  ...     0.024735    0.005925   19.198000    1.000000   \n",
       "50%            0.221000  ...     0.038360    0.011660   22.085000    1.000000   \n",
       "75%            0.350000  ...     0.060795    0.025640   25.075500    1.000000   \n",
       "max            1.302000  ...     0.169420    0.314820   33.047000    1.000000   \n",
       "\n",
       "             RPDE         DFA     spread1     spread2          D2         PPE  \n",
       "count  195.000000  195.000000  195.000000  195.000000  195.000000  195.000000  \n",
       "mean     0.498536    0.718099   -5.684397    0.226510    2.381826    0.206552  \n",
       "std      0.103942    0.055336    1.090208    0.083406    0.382799    0.090119  \n",
       "min      0.256570    0.574282   -7.964984    0.006274    1.423287    0.044539  \n",
       "25%      0.421306    0.674758   -6.450096    0.174351    2.099125    0.137451  \n",
       "50%      0.495954    0.722254   -5.720868    0.218885    2.361532    0.194052  \n",
       "75%      0.587562    0.761881   -5.046192    0.279234    2.636456    0.252980  \n",
       "max      0.685151    0.825288   -2.434031    0.450493    3.671155    0.527367  \n",
       "\n",
       "[8 rows x 23 columns]"
      ]
     },
     "execution_count": 7,
     "metadata": {},
     "output_type": "execute_result"
    }
   ],
   "source": [
    "#statistical measures\n",
    "df.describe()"
   ]
  },
  {
   "cell_type": "code",
   "execution_count": 8,
   "id": "50cc798a",
   "metadata": {},
   "outputs": [
    {
     "data": {
      "text/plain": [
       "1    147\n",
       "0     48\n",
       "Name: status, dtype: int64"
      ]
     },
     "execution_count": 8,
     "metadata": {},
     "output_type": "execute_result"
    }
   ],
   "source": [
    "df['status'].value_counts()"
   ]
  },
  {
   "cell_type": "markdown",
   "id": "4e6c8d8d",
   "metadata": {},
   "source": [
    "0= not having Parkinson\n",
    "1= having parkinson"
   ]
  },
  {
   "cell_type": "code",
   "execution_count": 9,
   "id": "d7ced157",
   "metadata": {},
   "outputs": [
    {
     "data": {
      "text/html": [
       "<div>\n",
       "<style scoped>\n",
       "    .dataframe tbody tr th:only-of-type {\n",
       "        vertical-align: middle;\n",
       "    }\n",
       "\n",
       "    .dataframe tbody tr th {\n",
       "        vertical-align: top;\n",
       "    }\n",
       "\n",
       "    .dataframe thead th {\n",
       "        text-align: right;\n",
       "    }\n",
       "</style>\n",
       "<table border=\"1\" class=\"dataframe\">\n",
       "  <thead>\n",
       "    <tr style=\"text-align: right;\">\n",
       "      <th></th>\n",
       "      <th>MDVP:Fo(Hz)</th>\n",
       "      <th>MDVP:Fhi(Hz)</th>\n",
       "      <th>MDVP:Flo(Hz)</th>\n",
       "      <th>MDVP:Jitter(%)</th>\n",
       "      <th>MDVP:Jitter(Abs)</th>\n",
       "      <th>MDVP:RAP</th>\n",
       "      <th>MDVP:PPQ</th>\n",
       "      <th>Jitter:DDP</th>\n",
       "      <th>MDVP:Shimmer</th>\n",
       "      <th>MDVP:Shimmer(dB)</th>\n",
       "      <th>...</th>\n",
       "      <th>MDVP:APQ</th>\n",
       "      <th>Shimmer:DDA</th>\n",
       "      <th>NHR</th>\n",
       "      <th>HNR</th>\n",
       "      <th>RPDE</th>\n",
       "      <th>DFA</th>\n",
       "      <th>spread1</th>\n",
       "      <th>spread2</th>\n",
       "      <th>D2</th>\n",
       "      <th>PPE</th>\n",
       "    </tr>\n",
       "    <tr>\n",
       "      <th>status</th>\n",
       "      <th></th>\n",
       "      <th></th>\n",
       "      <th></th>\n",
       "      <th></th>\n",
       "      <th></th>\n",
       "      <th></th>\n",
       "      <th></th>\n",
       "      <th></th>\n",
       "      <th></th>\n",
       "      <th></th>\n",
       "      <th></th>\n",
       "      <th></th>\n",
       "      <th></th>\n",
       "      <th></th>\n",
       "      <th></th>\n",
       "      <th></th>\n",
       "      <th></th>\n",
       "      <th></th>\n",
       "      <th></th>\n",
       "      <th></th>\n",
       "      <th></th>\n",
       "    </tr>\n",
       "  </thead>\n",
       "  <tbody>\n",
       "    <tr>\n",
       "      <th>0</th>\n",
       "      <td>181.937771</td>\n",
       "      <td>223.636750</td>\n",
       "      <td>145.207292</td>\n",
       "      <td>0.003866</td>\n",
       "      <td>0.000023</td>\n",
       "      <td>0.001925</td>\n",
       "      <td>0.002056</td>\n",
       "      <td>0.005776</td>\n",
       "      <td>0.017615</td>\n",
       "      <td>0.162958</td>\n",
       "      <td>...</td>\n",
       "      <td>0.013305</td>\n",
       "      <td>0.028511</td>\n",
       "      <td>0.011483</td>\n",
       "      <td>24.678750</td>\n",
       "      <td>0.442552</td>\n",
       "      <td>0.695716</td>\n",
       "      <td>-6.759264</td>\n",
       "      <td>0.160292</td>\n",
       "      <td>2.154491</td>\n",
       "      <td>0.123017</td>\n",
       "    </tr>\n",
       "    <tr>\n",
       "      <th>1</th>\n",
       "      <td>145.180762</td>\n",
       "      <td>188.441463</td>\n",
       "      <td>106.893558</td>\n",
       "      <td>0.006989</td>\n",
       "      <td>0.000051</td>\n",
       "      <td>0.003757</td>\n",
       "      <td>0.003900</td>\n",
       "      <td>0.011273</td>\n",
       "      <td>0.033658</td>\n",
       "      <td>0.321204</td>\n",
       "      <td>...</td>\n",
       "      <td>0.027600</td>\n",
       "      <td>0.053027</td>\n",
       "      <td>0.029211</td>\n",
       "      <td>20.974048</td>\n",
       "      <td>0.516816</td>\n",
       "      <td>0.725408</td>\n",
       "      <td>-5.333420</td>\n",
       "      <td>0.248133</td>\n",
       "      <td>2.456058</td>\n",
       "      <td>0.233828</td>\n",
       "    </tr>\n",
       "  </tbody>\n",
       "</table>\n",
       "<p>2 rows × 22 columns</p>\n",
       "</div>"
      ],
      "text/plain": [
       "        MDVP:Fo(Hz)  MDVP:Fhi(Hz)  MDVP:Flo(Hz)  MDVP:Jitter(%)  \\\n",
       "status                                                            \n",
       "0        181.937771    223.636750    145.207292        0.003866   \n",
       "1        145.180762    188.441463    106.893558        0.006989   \n",
       "\n",
       "        MDVP:Jitter(Abs)  MDVP:RAP  MDVP:PPQ  Jitter:DDP  MDVP:Shimmer  \\\n",
       "status                                                                   \n",
       "0               0.000023  0.001925  0.002056    0.005776      0.017615   \n",
       "1               0.000051  0.003757  0.003900    0.011273      0.033658   \n",
       "\n",
       "        MDVP:Shimmer(dB)  ...  MDVP:APQ  Shimmer:DDA       NHR        HNR  \\\n",
       "status                    ...                                               \n",
       "0               0.162958  ...  0.013305     0.028511  0.011483  24.678750   \n",
       "1               0.321204  ...  0.027600     0.053027  0.029211  20.974048   \n",
       "\n",
       "            RPDE       DFA   spread1   spread2        D2       PPE  \n",
       "status                                                              \n",
       "0       0.442552  0.695716 -6.759264  0.160292  2.154491  0.123017  \n",
       "1       0.516816  0.725408 -5.333420  0.248133  2.456058  0.233828  \n",
       "\n",
       "[2 rows x 22 columns]"
      ]
     },
     "execution_count": 9,
     "metadata": {},
     "output_type": "execute_result"
    }
   ],
   "source": [
    "df.groupby('status').mean()"
   ]
  },
  {
   "cell_type": "markdown",
   "id": "0f73dda2",
   "metadata": {},
   "source": [
    "Data preprocessing\n",
    "Seprating the features & Target"
   ]
  },
  {
   "cell_type": "code",
   "execution_count": 10,
   "id": "71e1d4a7",
   "metadata": {},
   "outputs": [],
   "source": [
    "x = df.drop(columns=[\"name\" ,'status'] , axis=1)\n",
    "y = df['status']"
   ]
  },
  {
   "cell_type": "code",
   "execution_count": 11,
   "id": "c7afdc49",
   "metadata": {},
   "outputs": [
    {
     "data": {
      "text/plain": [
       "(195, 22)"
      ]
     },
     "execution_count": 11,
     "metadata": {},
     "output_type": "execute_result"
    }
   ],
   "source": [
    "x.shape"
   ]
  },
  {
   "cell_type": "code",
   "execution_count": 12,
   "id": "92a26cb5",
   "metadata": {},
   "outputs": [
    {
     "data": {
      "text/plain": [
       "0      1\n",
       "1      1\n",
       "2      1\n",
       "3      1\n",
       "4      1\n",
       "      ..\n",
       "190    0\n",
       "191    0\n",
       "192    0\n",
       "193    0\n",
       "194    0\n",
       "Name: status, Length: 195, dtype: int64"
      ]
     },
     "execution_count": 12,
     "metadata": {},
     "output_type": "execute_result"
    }
   ],
   "source": [
    "y"
   ]
  },
  {
   "cell_type": "markdown",
   "id": "bcac1c1f",
   "metadata": {},
   "source": [
    "Spliting the data into training and testing"
   ]
  },
  {
   "cell_type": "code",
   "execution_count": 13,
   "id": "1eba547b",
   "metadata": {},
   "outputs": [],
   "source": [
    "x_train , x_test , y_train , y_test= train_test_split(x , y , test_size=0.2 , random_state=2)"
   ]
  },
  {
   "cell_type": "code",
   "execution_count": 14,
   "id": "22a20324",
   "metadata": {},
   "outputs": [
    {
     "data": {
      "text/plain": [
       "((156, 22), (39, 22), (156,), (39,))"
      ]
     },
     "execution_count": 14,
     "metadata": {},
     "output_type": "execute_result"
    }
   ],
   "source": [
    "x_train.shape , x_test.shape , y_train.shape , y_test.shape"
   ]
  },
  {
   "cell_type": "markdown",
   "id": "cd5ae044",
   "metadata": {},
   "source": [
    "Data Standrized"
   ]
  },
  {
   "cell_type": "code",
   "execution_count": 15,
   "id": "df0b4c25",
   "metadata": {},
   "outputs": [],
   "source": [
    "scaler = StandardScaler()"
   ]
  },
  {
   "cell_type": "code",
   "execution_count": 16,
   "id": "4877d581",
   "metadata": {},
   "outputs": [
    {
     "data": {
      "text/plain": [
       "StandardScaler()"
      ]
     },
     "execution_count": 16,
     "metadata": {},
     "output_type": "execute_result"
    }
   ],
   "source": [
    "scaler.fit(x_train)"
   ]
  },
  {
   "cell_type": "code",
   "execution_count": 17,
   "id": "138175b2",
   "metadata": {},
   "outputs": [],
   "source": [
    "x_train = scaler.transform(x_train)\n",
    "x_test=scaler.transform(x_test)"
   ]
  },
  {
   "cell_type": "code",
   "execution_count": 18,
   "id": "b1720a17",
   "metadata": {},
   "outputs": [
    {
     "name": "stdout",
     "output_type": "stream",
     "text": [
      "[[ 0.63239631 -0.02731081 -0.87985049 ... -0.97586547 -0.55160318\n",
      "   0.07769494]\n",
      " [-1.05512719 -0.83337041 -0.9284778  ...  0.3981808  -0.61014073\n",
      "   0.39291782]\n",
      " [ 0.02996187 -0.29531068 -1.12211107 ... -0.43937044 -0.62849605\n",
      "  -0.50948408]\n",
      " ...\n",
      " [-0.9096785  -0.6637302  -0.160638   ...  1.22001022 -0.47404629\n",
      "  -0.2159482 ]\n",
      " [-0.35977689  0.19731822 -0.79063679 ... -0.17896029 -0.47272835\n",
      "   0.28181221]\n",
      " [ 1.01957066  0.19922317 -0.61914972 ... -0.716232    1.23632066\n",
      "  -0.05829386]]\n"
     ]
    }
   ],
   "source": [
    "print(x_train)"
   ]
  },
  {
   "cell_type": "code",
   "execution_count": 19,
   "id": "d59f69d3",
   "metadata": {},
   "outputs": [
    {
     "name": "stdout",
     "output_type": "stream",
     "text": [
      "[[-1.70008583e+00 -9.67968410e-01 -7.70130215e-01 -2.75000683e-01\n",
      "   4.16156683e-01 -2.92615113e-01 -9.70869783e-02 -2.91621655e-01\n",
      "  -4.94706656e-01 -4.90058396e-01 -5.32488171e-01 -4.26848854e-01\n",
      "  -3.60251422e-01 -5.32484688e-01 -3.57189713e-01 -1.08840337e-01\n",
      "   1.06963705e+00  1.05628304e+00  3.72180199e-01  1.94886208e+00\n",
      "   3.66935071e-02  4.44314482e-01]\n",
      " [-1.39044095e+00 -9.29681132e-01 -7.37045677e-01  7.42068829e-01\n",
      "   1.50451280e+00  8.54349819e-01  7.33639862e-01  8.53234751e-01\n",
      "  -3.12538562e-03  3.01660094e-01  1.16511011e-01 -7.67595149e-02\n",
      "  -2.23967413e-01  1.16829276e-01 -1.19644974e-01 -5.22790834e-01\n",
      "   9.12650090e-01  1.31721995e+00  6.70118138e-01  4.74318608e-01\n",
      "   1.42454868e-02  7.46859799e-01]\n",
      " [-1.35302065e+00 -6.29175292e-01 -7.29027225e-01  4.92094897e-01\n",
      "   1.23242377e+00  4.52288742e-01  3.45291949e-01  4.53262231e-01\n",
      "  -1.57435662e-01 -1.27992014e-01 -6.49095096e-02 -2.59345791e-01\n",
      "  -2.60383383e-01 -6.52155416e-02  2.54927471e-01 -6.85306331e-01\n",
      "   1.63423714e+00 -8.42551171e-01  2.43042190e+00  2.01645645e+00\n",
      "   4.23263515e-01  1.70448737e+00]\n",
      " [ 1.04170416e+00  2.17641374e-01  6.81254572e-01 -5.21158220e-01\n",
      "  -6.72199437e-01 -5.17021295e-01 -4.85434892e-01 -5.17060712e-01\n",
      "   2.00946185e-01 -7.30321934e-03  3.80225376e-01  1.55839524e-01\n",
      "  -8.23037710e-03  3.80233164e-01 -2.30529235e-01 -6.30271202e-01\n",
      "   1.02404991e+00 -1.08229315e+00  7.45935205e-02  1.00442371e+00\n",
      "   1.83674893e-01  1.66131346e-02]\n",
      " [-9.97415782e-01  4.34584493e+00 -7.21705053e-01 -2.92174464e-01\n",
      "  -1.28021377e-01 -2.92615113e-01 -3.23341850e-01 -2.92660545e-01\n",
      "  -7.37481456e-01 -6.97643122e-01 -7.74693918e-01 -7.20574603e-01\n",
      "  -5.81506029e-01 -7.74691576e-01 -3.05128200e-01  5.04099919e-01\n",
      "   6.50570904e-01 -9.71664570e-01 -6.75704306e-01 -8.48255200e-01\n",
      "  -5.82834991e-01 -9.40724851e-01]\n",
      " [-9.42866298e-01 -8.40790856e-01 -1.91454011e-01 -6.07027128e-01\n",
      "  -4.00110407e-01 -5.60655830e-01 -6.34020180e-01 -5.60694078e-01\n",
      "  -1.04760993e+00 -9.63158469e-01 -1.08329583e+00 -9.99217138e-01\n",
      "  -9.05939218e-01 -1.08298323e+00 -5.06387642e-01  8.62583639e-01\n",
      "  -1.37906646e-01  6.45695194e-02 -6.90797014e-01 -5.49317204e-01\n",
      "  -9.03760130e-01 -7.17451813e-01]\n",
      " [ 1.11654476e+00  1.21009469e-01  1.73728699e+00 -8.60817456e-01\n",
      "  -9.44288467e-01 -7.57011240e-01 -8.23128729e-01 -7.58083113e-01\n",
      "  -9.71711386e-01 -9.24538055e-01 -9.93520731e-01 -8.88871519e-01\n",
      "  -8.76144334e-01 -9.93519422e-01 -5.89550838e-01  2.18191596e+00\n",
      "  -1.43170413e+00  4.31667996e-01 -1.87014020e+00 -6.49696731e-01\n",
      "   1.37056937e-01 -1.61637865e+00]\n",
      " [-1.08181685e+00 -7.68280933e-01 -3.97260953e-01 -2.80725277e-01\n",
      "  -1.28021377e-01 -2.83264855e-01 -1.57871869e-01 -2.82271648e-01\n",
      "   1.08157030e+00  8.56828547e-01  1.16669268e+00  1.16482717e+00\n",
      "   8.76788050e-01  1.16701590e+00  2.11655564e-01 -1.05220719e+00\n",
      "   1.20295881e+00 -2.06049026e-01  8.99849281e-01  9.26297137e-01\n",
      "   7.05889923e-01  7.08666241e-01]\n",
      " [-1.30006458e+00  7.04729216e-02 -9.07230027e-01 -3.07513440e-02\n",
      "   4.16156683e-01 -9.93764557e-02  5.48752486e-02 -9.94270682e-02\n",
      "   3.21579625e-01  3.98211129e-01  7.81695609e-02  2.90000745e-01\n",
      "   6.81466028e-01  7.84876447e-02  3.06798283e-02  9.57608471e-02\n",
      "   2.41205147e-01  3.42159590e-01  8.64938299e-02  1.34863999e-01\n",
      "   1.14522326e+00  1.20125076e-01]\n",
      " [-9.94278751e-01 -7.58966614e-01 -1.52844152e-01  7.64967205e-01\n",
      "   1.23242377e+00  6.11243122e-01  1.42591223e+00  6.12212349e-01\n",
      "   1.05844889e+00  8.85793858e-01  1.03670582e+00  1.57048624e+00\n",
      "   5.76632175e-01  1.03640498e+00 -3.24961157e-01 -2.09630161e-01\n",
      "  -6.29027463e-01  1.97458060e+00  1.08764549e+00  1.00944857e+00\n",
      "  -1.27555004e-01  1.33339529e+00]\n",
      " [-4.90262437e-01 -4.40496653e-01  2.90102340e-01 -6.79538650e-01\n",
      "  -6.72199437e-01 -7.16493457e-01 -6.94805071e-01 -7.15488637e-01\n",
      "  -9.39039829e-01 -9.00400296e-01 -9.28059719e-01 -9.23007214e-01\n",
      "  -7.75172780e-01 -9.28058101e-01 -4.89033804e-01  8.80712858e-01\n",
      "  -3.41249278e-01 -1.36057476e+00 -7.78624773e-01 -8.54103808e-01\n",
      "  -8.87475153e-01 -7.48663060e-01]\n",
      " [-9.35795530e-01 -7.98594001e-01 -2.05379614e-01 -3.99033550e-01\n",
      "  -1.28021377e-01 -4.17285214e-01 -5.63104474e-01 -4.18366194e-01\n",
      "  -1.05263632e+00 -9.67986021e-01 -1.03840828e+00 -1.03970366e+00\n",
      "  -9.56700874e-01 -1.03840719e+00 -2.31430733e-01  1.12653643e+00\n",
      "  -3.69919314e-01 -3.71085406e-01 -1.08276123e+00 -8.52597527e-01\n",
      "  -1.62260941e-01 -1.02383686e+00]\n",
      " [ 1.14343359e+00  4.61962269e-01  1.02887806e+00 -7.53958371e-01\n",
      "  -9.44288467e-01 -7.72595003e-01 -7.62343838e-01 -7.71588679e-01\n",
      "  -2.33836841e-01 -3.40404291e-01 -1.62165871e-01 -2.55376525e-01\n",
      "  -2.97351110e-01 -1.61848921e-01 -3.83558531e-01 -2.03371264e-01\n",
      "   4.40320486e-03 -1.66778915e+00 -4.10966775e-01 -5.61983681e-02\n",
      "   4.64016354e-01 -5.20584992e-01]\n",
      " [-9.94428133e-01 -6.84097654e-01 -1.57089215e-01  6.63832713e-01\n",
      "   1.23242377e+00  4.80339515e-01  1.14562634e+00  4.79234473e-01\n",
      "   1.18863248e+00  1.05475817e+00  1.19287709e+00  1.68718269e+00\n",
      "   6.77051971e-01  1.19257699e+00 -3.15044679e-01 -2.11140929e-01\n",
      "  -5.81472130e-01  1.86144750e+00  1.37652958e+00  1.27980253e+00\n",
      "   3.22523792e-02  1.72317122e+00]\n",
      " [-8.57195476e-01 -7.86654839e-01 -5.82848127e-02 -2.38744922e-01\n",
      "  -1.28021377e-01 -5.57539078e-01 -5.25958152e-01 -5.57577409e-01\n",
      "  -7.61105504e-01 -7.50746192e-01 -7.41963411e-01 -8.76169865e-01\n",
      "  -6.13507942e-01 -7.41649195e-01 -4.30887179e-01  3.32303988e-01\n",
      "   7.74032948e-01  2.61996392e-01 -6.83047975e-01  4.82473709e-01\n",
      "  -7.89904155e-01 -7.98483076e-01]\n",
      " [ 1.48148268e-01 -1.43194979e-02 -9.14821727e-01 -2.80725277e-01\n",
      "  -4.00110407e-01 -2.11579547e-01 -3.57111233e-01 -2.10588262e-01\n",
      "  -6.71635703e-01 -6.30057397e-01 -7.99943166e-01 -6.53097066e-01\n",
      "  -4.11564835e-01 -7.99629223e-01 -3.56288215e-01  8.75317257e-01\n",
      "  -6.48803134e-01  7.76715016e-02 -8.57198216e-01 -1.82714228e-01\n",
      "  -1.09783161e+00 -7.83735493e-01]\n",
      " [-9.39259575e-02 -4.02408731e-01 -9.55116135e-01 -6.77630452e-01\n",
      "  -6.72199437e-01 -7.07143200e-01 -7.08312824e-01 -7.06138630e-01\n",
      "  -6.53038047e-01 -6.78332915e-01 -5.46515531e-01 -7.20574603e-01\n",
      "  -7.16686525e-01 -5.46823834e-01 -4.82723318e-01  7.12154288e-01\n",
      "  -2.08246176e-01 -1.22635888e+00 -3.86515968e-01 -2.55827710e-01\n",
      "  -6.74530773e-01 -4.09865504e-01]\n",
      " [ 1.50623372e+00  3.74810813e-01 -5.47635010e-01 -4.67728677e-01\n",
      "  -6.72199437e-01 -6.88442684e-01 -7.79228530e-01 -6.88477506e-01\n",
      "  -9.18934256e-01 -8.42469675e-01 -9.06551100e-01 -9.91278604e-01\n",
      "  -8.11036993e-01 -9.06237660e-01 -4.66496353e-01  6.38558292e-01\n",
      "  -3.23291844e-01 -2.55930334e+00  1.34987413e-01  1.92877440e+00\n",
      "   1.34592739e+00  1.32384340e-01]\n",
      " [-9.05022750e-01 -6.91041861e-01 -7.95101276e-02 -6.03210732e-01\n",
      "  -4.00110407e-01 -6.01173613e-01 -5.29335090e-01 -6.00171885e-01\n",
      "  -7.63618701e-01 -7.65228847e-01 -8.13035368e-01 -7.48359471e-01\n",
      "  -6.58752027e-01 -8.13033207e-01 -4.83174067e-01  7.04384622e-01\n",
      "   9.28142594e-01  8.31175656e-01  3.10734791e-02  3.79975975e-01\n",
      "  -1.35833065e+00  3.69165339e-02]\n",
      " [ 4.30705131e-01 -7.64629495e-02 -7.22783164e-01 -3.30338424e-01\n",
      "  -4.00110407e-01 -3.95467946e-01 -3.40226541e-01 -3.95510622e-01\n",
      "   5.35201343e-01  3.16142749e-01  5.03666143e-01  4.68617754e-01\n",
      "   6.77051971e-01  5.03986233e-01 -2.05287289e-01 -2.59053864e-01\n",
      "   3.77273009e-01 -6.12060951e-01  3.73061900e-01 -1.77854118e-01\n",
      "   3.90658214e-01  4.85243046e-01]\n",
      " [-1.15237851e-01 -4.68483911e-01  3.25612629e-01 -9.06614207e-01\n",
      "  -9.44288467e-01 -8.50513816e-01 -8.87290558e-01 -8.50544293e-01\n",
      "  -1.05716007e+00 -9.92123780e-01 -1.11602634e+00 -1.03494054e+00\n",
      "  -8.56281077e-01 -1.11633733e+00 -5.66337263e-01  1.79256940e+00\n",
      "  -1.73989531e+00 -8.14440784e-01 -9.48935976e-01 -7.61455741e-01\n",
      "  -2.42145697e-01 -9.99447044e-01]\n",
      " [ 1.14993173e+00  3.52959266e-01 -7.21615210e-01 -5.32607407e-01\n",
      "  -6.72199437e-01 -4.95204027e-01 -4.98942645e-01 -4.94205139e-01\n",
      "  -5.68091999e-01 -5.72126776e-01 -4.96952193e-01 -5.57834661e-01\n",
      "  -5.73229672e-01 -4.97260262e-01 -1.66973622e-01 -6.33508563e-01\n",
      "   3.66382331e-01 -1.62625904e+00 -2.03412110e-01 -1.41679831e-01\n",
      "   1.96849313e-01 -2.06810061e-01]\n",
      " [-9.09728296e-01 -8.08572837e-01 -2.85092463e-01 -7.23427203e-01\n",
      "  -6.72199437e-01 -7.22726962e-01 -7.55589962e-01 -7.21721975e-01\n",
      "  -1.05816535e+00 -1.00660644e+00 -1.09638804e+00 -1.02541430e+00\n",
      "  -9.05939218e-01 -1.09638721e+00 -5.10219009e-01  1.02445166e+00\n",
      "  -5.30961981e-02 -1.49955850e-02 -1.97547110e-01 -3.46169284e-01\n",
      "  -7.16808594e-01 -2.65371371e-01]\n",
      " [-9.86261894e-01 -6.11056117e-01 -4.14106441e-01 -5.65046773e-01\n",
      "  -4.00110407e-01 -5.35721810e-01 -4.75304076e-01 -5.35760726e-01\n",
      "  -7.38989374e-01 -7.41091088e-01 -7.17649321e-01 -6.49127799e-01\n",
      "  -6.76960012e-01 -7.17646711e-01 -4.87005434e-01  8.25030257e-01\n",
      "  -1.02653719e+00  6.88567776e-01 -3.04431686e-01  4.59580994e-02\n",
      "  -1.31247771e+00 -4.84751047e-01]\n",
      " [ 2.14698475e+00  6.13516536e-01  2.46058732e+00 -8.09296111e-01\n",
      "  -9.71497369e-01 -7.19610210e-01 -7.42082208e-01 -7.20683085e-01\n",
      "  -8.20919585e-01 -7.94194157e-01 -7.49444670e-01 -7.94402967e-01\n",
      "  -8.44694178e-01 -7.49130489e-01 -5.12698129e-01  7.35894931e-01\n",
      "  -6.15999889e-01 -1.50856548e+00 -1.17660745e+00 -1.45108545e+00\n",
      "  -6.81186250e-02 -1.13270084e+00]\n",
      " [-6.89090449e-01  3.10172439e+00 -6.76267156e-01 -1.29977638e-01\n",
      "   1.44067653e-01 -3.33132896e-01 -1.51117992e-01 -3.33177242e-01\n",
      "  -5.62562967e-01 -3.74197154e-01 -7.47574355e-01 -6.05465863e-01\n",
      "  -4.47429048e-01 -7.47260166e-01 -9.03462865e-02  6.73521785e-01\n",
      "  -8.67335831e-02 -6.63721263e-01 -4.58391494e-01  6.41821794e-01\n",
      "   7.40929134e-01 -5.99406799e-01]\n",
      " [-1.06814836e+00 -9.21418966e-01 -4.81713000e-01 -5.72679564e-01\n",
      "  -4.00110407e-01 -5.51305573e-01 -5.25958152e-01 -5.50305181e-01\n",
      "  -8.31977651e-01 -7.99021709e-01 -8.42025245e-01 -7.73762779e-01\n",
      "  -7.70758723e-01 -8.41711501e-01 -5.12247380e-01  1.06286834e+00\n",
      "  -1.09428995e+00  8.79546455e-01 -2.43175607e-01 -3.91192973e-01\n",
      "  -1.36399378e+00 -3.07147250e-01]\n",
      " [-2.84911392e-01 -1.69443416e-02 -8.47282551e-01  1.60068452e-01\n",
      "   1.44067653e-01  2.06065292e-01  2.13591352e-01  2.06006492e-01\n",
      "  -3.84628642e-01 -3.16266532e-01 -3.86603629e-01 -3.05389287e-01\n",
      "  -3.31560052e-01 -3.86287737e-01 -1.97624556e-01 -5.96818477e-01\n",
      "   1.31688917e+00  2.97265209e-01  6.65961153e-02 -1.14668718e+00\n",
      "  -1.58260382e+00  1.54468174e-01]\n",
      " [-1.53270282e+00 -8.80883405e-01 -6.09446720e-01 -2.23479338e-01\n",
      "   4.16156683e-01 -2.48980577e-01 -9.03331016e-02 -2.50066069e-01\n",
      "  -1.45372318e-01 -2.10060394e-01 -1.93961220e-01 -1.22803011e-01\n",
      "  -5.56814898e-02 -1.93644420e-01 -3.89643643e-01  5.17327442e-02\n",
      "   4.68869042e-01  1.47321016e+00  5.83195142e-01  1.18388300e+00\n",
      "   1.01022954e-01  6.76221560e-01]\n",
      " [-1.10711228e+00 -7.52786602e-01 -4.67922160e-01 -2.48285911e-01\n",
      "   1.44067653e-01 -1.77295269e-01 -2.52426144e-01 -1.77343793e-01\n",
      "  -6.89228079e-01 -6.92815570e-01 -6.37225791e-01 -6.72149547e-01\n",
      "  -6.52130941e-01 -6.36911081e-01 -2.96563968e-01 -8.70421095e-02\n",
      "   5.62667579e-01 -8.70138226e-01  4.63285119e-02 -4.76556757e-01\n",
      "  -1.31519187e+00  4.36736081e-02]\n",
      " [-1.19034319e+00 -7.19704711e-01 -3.47825061e-01  2.13497995e-01\n",
      "   6.88245713e-01  3.47637782e-03  4.29715408e-01  2.38411858e-03\n",
      "  -2.05186399e-01 -2.10060394e-01 -1.54684613e-01 -2.14890002e-01\n",
      "  -2.63693926e-01 -1.54367627e-01 -3.86488400e-01 -1.28264500e-01\n",
      "   3.65510702e-01  1.85765335e+00  9.04569134e-01 -2.33410008e-01\n",
      "  -1.02476887e+00  1.16249494e+00]\n",
      " [-4.34318718e-01 -2.27042591e-01 -9.38944466e-01 -4.94443448e-01\n",
      "  -4.00110407e-01 -5.70006088e-01 -5.09073460e-01 -5.69005195e-01\n",
      "  -7.46528964e-01 -6.97643122e-01 -8.60728392e-01 -7.52328738e-01\n",
      "  -4.12668349e-01 -8.60726456e-01 -3.85361527e-01  7.05032094e-01\n",
      "  -6.26487555e-01 -1.00569982e+00  8.10400161e-03  3.48285229e-01\n",
      "   3.19746607e-01 -9.03631484e-02]\n",
      " [ 9.06562857e-01  1.02569112e-01 -8.54919172e-01  2.23038985e-01\n",
      "  -1.28021377e-01  3.18268384e-01  1.02152386e-01  3.19245465e-01\n",
      "  -4.18286145e-02 -1.13509358e-01  1.14640696e-01 -5.13562069e-02\n",
      "  -2.54314055e-01  1.14335511e-01 -4.06546732e-01  6.72720746e-02\n",
      "   5.09675919e-03  3.90586460e-01 -1.55890705e-01  6.27064945e-01\n",
      "   5.45279652e-01 -2.42890692e-01]\n",
      " [ 1.43584970e+00  6.71584281e-01 -9.07117724e-01 -1.56692409e-01\n",
      "  -4.00110407e-01 -1.64828259e-01 -1.40987177e-01 -1.64877117e-01\n",
      "  -6.24890244e-01 -5.23851258e-01 -5.82051509e-01 -5.70536315e-01\n",
      "  -6.46613370e-01 -5.82048259e-01  3.71220721e-01 -8.92003499e-02\n",
      "  -3.20601978e-01 -1.03328687e+00 -4.85227013e-02 -4.08644653e-01\n",
      "   4.10778366e-01 -6.40796560e-01]\n",
      " [-1.52451168e+00 -1.07977346e+00 -6.31053866e-01 -7.84562930e-02\n",
      "   4.16156683e-01 -5.26251678e-02 -9.03331016e-02 -5.16381438e-02\n",
      "   3.75884006e-02 -1.71439979e-01  1.44565731e-01  5.00738283e-03\n",
      "  -4.96121614e-02  1.44260687e-01 -3.80628663e-01  5.45384566e-02\n",
      "   1.38658201e+00  1.12087712e+00  4.91536327e-01  2.83621044e-01\n",
      "  -9.46868610e-01  5.54519145e-01]\n",
      " [ 1.23761922e+00  2.95888297e-01 -5.91612964e-01 -2.94082662e-01\n",
      "  -6.72199437e-01 -1.43010991e-01 -3.80749802e-01 -1.44099324e-01\n",
      "  -5.13806951e-01 -4.32127775e-01 -5.06303766e-01 -4.72892350e-01\n",
      "  -5.19157474e-01 -5.06611880e-01 -3.83783906e-01  5.21643923e-02\n",
      "  -1.55114544e+00 -8.44865548e-02 -9.40564247e-01 -5.14154950e-01\n",
      "   1.37686127e+00 -9.95317721e-01]\n",
      " [ 2.16159933e+00  5.67864191e-01  2.56219930e+00 -8.37919081e-01\n",
      "  -9.71497369e-01 -7.44544230e-01 -7.48836085e-01 -7.44577548e-01\n",
      "  -8.58617536e-01 -8.32814572e-01 -8.14905683e-01 -7.79319753e-01\n",
      "  -8.34210792e-01 -8.15215252e-01 -5.17656368e-01  8.08411807e-01\n",
      "  -5.50290302e-01 -1.57665467e+00 -1.23164638e+00 -1.57435339e+00\n",
      "  -1.56698801e-01 -1.25321272e+00]\n",
      " [-1.38571051e+00 -9.92566629e-01 -5.10574936e-01 -8.22726889e-02\n",
      "   4.16156683e-01  9.70988289e-03 -3.63020875e-02  9.65634621e-03\n",
      "  -3.51957085e-01 -3.98334912e-01 -2.59422233e-01 -3.64134437e-01\n",
      "  -4.38049177e-01 -2.59105741e-01 -3.41188122e-01 -2.34449925e-01\n",
      "   5.39845893e-01  1.27570853e+00  5.73962113e-01 -9.23122088e-01\n",
      "   8.96966890e-02  6.04403514e-01]\n",
      " [-7.58702661e-01 -5.02318921e-01 -4.67562790e-01  6.21852358e-01\n",
      "   9.60334743e-01  7.63963996e-01  3.21653380e-01  7.62851350e-01\n",
      "  -1.38335367e-01 -1.56957324e-01 -1.38786938e-01 -2.37117897e-01\n",
      "  -2.14035784e-01 -1.39093319e-01  2.42757247e-01 -1.90575389e-02\n",
      "   1.29343016e+00 -1.72520611e+00  5.31555286e-01  6.43681110e-01\n",
      "   1.26118997e+00  4.43917638e-01]]\n"
     ]
    }
   ],
   "source": [
    "print(x_test)"
   ]
  },
  {
   "cell_type": "markdown",
   "id": "5cae493b",
   "metadata": {},
   "source": [
    "Model Trainig\n",
    "\n",
    "\n",
    "\n",
    "Support Vector machine"
   ]
  },
  {
   "cell_type": "code",
   "execution_count": 20,
   "id": "8e7de372",
   "metadata": {},
   "outputs": [],
   "source": [
    "algo =svm.SVC(kernel='linear')"
   ]
  },
  {
   "cell_type": "code",
   "execution_count": 21,
   "id": "73525edf",
   "metadata": {},
   "outputs": [
    {
     "data": {
      "text/plain": [
       "SVC(kernel='linear')"
      ]
     },
     "execution_count": 21,
     "metadata": {},
     "output_type": "execute_result"
    }
   ],
   "source": [
    "algo.fit(x_train , y_train)"
   ]
  },
  {
   "cell_type": "code",
   "execution_count": 22,
   "id": "ee7347ff",
   "metadata": {},
   "outputs": [],
   "source": [
    "y_train_predict=algo.predict(x_train)"
   ]
  },
  {
   "cell_type": "code",
   "execution_count": 23,
   "id": "c45764f5",
   "metadata": {},
   "outputs": [],
   "source": [
    "y_test_predict=algo.predict(x_test)"
   ]
  },
  {
   "cell_type": "code",
   "execution_count": 24,
   "id": "4d76767e",
   "metadata": {},
   "outputs": [
    {
     "data": {
      "text/plain": [
       "[<matplotlib.lines.Line2D at 0x1ea4a948c70>]"
      ]
     },
     "execution_count": 24,
     "metadata": {},
     "output_type": "execute_result"
    },
    {
     "data": {
      "image/png": "[encoded data removed]",
      "text/plain": [
       "<Figure size 640x480 with 1 Axes>"
      ]
     },
     "metadata": {},
     "output_type": "display_data"
    }
   ],
   "source": [
    "plt.plot(y_test , y_test_predict)"
   ]
  },
  {
   "cell_type": "code",
   "execution_count": 25,
   "id": "65fe077b",
   "metadata": {},
   "outputs": [
    {
     "name": "stdout",
     "output_type": "stream",
     "text": [
      "acuracy on trainning score :  0.8846153846153846\n"
     ]
    }
   ],
   "source": [
    "train_score=algo.score(x_train , y_train)\n",
    "print(\"acuracy on trainning score : \" , train_score)"
   ]
  },
  {
   "cell_type": "code",
   "execution_count": 26,
   "id": "023a001f",
   "metadata": {},
   "outputs": [
    {
     "name": "stdout",
     "output_type": "stream",
     "text": [
      "acuracy on testing score :  0.8717948717948718\n"
     ]
    }
   ],
   "source": [
    "test_score=algo.score(x_test , y_test)\n",
    "print(\"acuracy on testing score : \" , test_score)"
   ]
  },
  {
   "cell_type": "markdown",
   "id": "a67814b5",
   "metadata": {},
   "source": [
    "Bulding a Predictive system"
   ]
  },
  {
   "cell_type": "code",
   "execution_count": 31,
   "id": "8466c776",
   "metadata": {},
   "outputs": [
    {
     "name": "stdout",
     "output_type": "stream",
     "text": [
      "The person is having parkinson's disease\n"
     ]
    },
    {
     "name": "stderr",
     "output_type": "stream",
     "text": [
      "C:\\Users\\shrut\\anaconda3\\lib\\site-packages\\sklearn\\base.py:450: UserWarning: X does not have valid feature names, but StandardScaler was fitted with feature names\n",
      "  warnings.warn(\n"
     ]
    }
   ],
   "source": [
    "input_data=(116.014,141.781,110.655,0.01284,0.00011,0.00655,0.00908,0.01966,0.06425,0.584,0.0349,0.04825,0.04465,0.1047,0.01767,19.649,0.417356,0.823484,-3.747787,0.234513,2.33218,0.410335)\n",
    "input_data_np= np.asarray(input_data)\n",
    "input_data_reshape=input_data_np.reshape(1,-1)\n",
    "\n",
    "standard_data= scaler.transform(input_data_reshape)\n",
    "prediction= algo.predict(standard_data)\n",
    "\n",
    "if(prediction[0]==1):\n",
    "    print(\"The person is having parkinson's disease\")\n",
    "else:\n",
    "    print(\"The person is not having parkinson's disease\")"
   ]
  },
  {
   "cell_type": "code",
   "execution_count": null,
   "id": "093e3b24",
   "metadata": {},
   "outputs": [],
   "source": []
  },
  {
   "cell_type": "code",
   "execution_count": null,
   "id": "34fcc26e",
   "metadata": {},
   "outputs": [],
   "source": []
  }
 ],
 "metadata": {
  "kernelspec": {
   "display_name": "Python 3 (ipykernel)",
   "language": "python",
   "name": "python3"
  },
  "language_info": {
   "codemirror_mode": {
    "name": "ipython",
    "version": 3
   },
   "file_extension": ".py",
   "mimetype": "text/x-python",
   "name": "python",
   "nbconvert_exporter": "python",
   "pygments_lexer": "ipython3",
   "version": "3.9.13"
  }
 },
 "nbformat": 4,
 "nbformat_minor": 5
}
